{
 "cells": [
  {
   "cell_type": "code",
   "execution_count": 2,
   "metadata": {},
   "outputs": [],
   "source": [
    "import json \n",
    "import pandas as pd\n",
    "from sklearn.feature_extraction.text import CountVectorizer\n",
    "from __future__ import print_function\n",
    "json_file=open('C:/EmotionLines/Friends/friends_train.json',\"r\",encoding=\"utf-8\")\n",
    "json_str=json_file.read()\n",
    "data=(json.loads(json_str))\n",
    "json_file.close()\n",
    "utter=[]\n",
    "emotion=[]"
   ]
  },
  {
   "cell_type": "code",
   "execution_count": 3,
   "metadata": {},
   "outputs": [
    {
     "name": "stdout",
     "output_type": "stream",
     "text": [
      "[nltk_data] Downloading package stopwords to\n",
      "[nltk_data]     C:\\Users\\DEEPANSH\\AppData\\Roaming\\nltk_data...\n",
      "[nltk_data]   Package stopwords is already up-to-date!\n"
     ]
    }
   ],
   "source": [
    "import nltk\n",
    "from nltk.corpus import stopwords\n",
    "nltk.download('stopwords')\n",
    "stopwords = stopwords.words('english')"
   ]
  },
  {
   "cell_type": "code",
   "execution_count": 4,
   "metadata": {},
   "outputs": [
    {
     "data": {
      "text/html": [
       "<div>\n",
       "<style scoped>\n",
       "    .dataframe tbody tr th:only-of-type {\n",
       "        vertical-align: middle;\n",
       "    }\n",
       "\n",
       "    .dataframe tbody tr th {\n",
       "        vertical-align: top;\n",
       "    }\n",
       "\n",
       "    .dataframe thead th {\n",
       "        text-align: right;\n",
       "    }\n",
       "</style>\n",
       "<table border=\"1\" class=\"dataframe\">\n",
       "  <thead>\n",
       "    <tr style=\"text-align: right;\">\n",
       "      <th></th>\n",
       "      <th>dialogues</th>\n",
       "      <th>emotion</th>\n",
       "    </tr>\n",
       "  </thead>\n",
       "  <tbody>\n",
       "    <tr>\n",
       "      <th>0</th>\n",
       "      <td>also I was the point person on my companys tr...</td>\n",
       "      <td>neutral</td>\n",
       "    </tr>\n",
       "    <tr>\n",
       "      <th>1</th>\n",
       "      <td>You mustve had your hands full.</td>\n",
       "      <td>neutral</td>\n",
       "    </tr>\n",
       "    <tr>\n",
       "      <th>2</th>\n",
       "      <td>That I did. That I did.</td>\n",
       "      <td>neutral</td>\n",
       "    </tr>\n",
       "    <tr>\n",
       "      <th>3</th>\n",
       "      <td>So lets talk a little bit about your duties.</td>\n",
       "      <td>neutral</td>\n",
       "    </tr>\n",
       "    <tr>\n",
       "      <th>4</th>\n",
       "      <td>My duties?  All right.</td>\n",
       "      <td>surprise</td>\n",
       "    </tr>\n",
       "    <tr>\n",
       "      <th>5</th>\n",
       "      <td>Now youll be heading a whole division, so you...</td>\n",
       "      <td>neutral</td>\n",
       "    </tr>\n",
       "    <tr>\n",
       "      <th>6</th>\n",
       "      <td>I see.</td>\n",
       "      <td>neutral</td>\n",
       "    </tr>\n",
       "    <tr>\n",
       "      <th>7</th>\n",
       "      <td>But therell be perhaps 30 people under you so...</td>\n",
       "      <td>neutral</td>\n",
       "    </tr>\n",
       "    <tr>\n",
       "      <th>8</th>\n",
       "      <td>Good to know.</td>\n",
       "      <td>neutral</td>\n",
       "    </tr>\n",
       "    <tr>\n",
       "      <th>9</th>\n",
       "      <td>We can go into detail</td>\n",
       "      <td>neutral</td>\n",
       "    </tr>\n",
       "    <tr>\n",
       "      <th>10</th>\n",
       "      <td>No dont I beg of you!</td>\n",
       "      <td>fear</td>\n",
       "    </tr>\n",
       "    <tr>\n",
       "      <th>11</th>\n",
       "      <td>All right then, well have a definite answer f...</td>\n",
       "      <td>neutral</td>\n",
       "    </tr>\n",
       "    <tr>\n",
       "      <th>12</th>\n",
       "      <td>Really?!</td>\n",
       "      <td>surprise</td>\n",
       "    </tr>\n",
       "    <tr>\n",
       "      <th>13</th>\n",
       "      <td>Absolutely.  You can relax; you did great.</td>\n",
       "      <td>neutral</td>\n",
       "    </tr>\n",
       "    <tr>\n",
       "      <th>14</th>\n",
       "      <td>But then who? The waitress I went out with las...</td>\n",
       "      <td>surprise</td>\n",
       "    </tr>\n",
       "    <tr>\n",
       "      <th>15</th>\n",
       "      <td>You know? Forget it!</td>\n",
       "      <td>non-neutral</td>\n",
       "    </tr>\n",
       "    <tr>\n",
       "      <th>16</th>\n",
       "      <td>No-no-no-no, no! Who, who were you talking about?</td>\n",
       "      <td>surprise</td>\n",
       "    </tr>\n",
       "    <tr>\n",
       "      <th>17</th>\n",
       "      <td>No, I-I-I-I don't, I actually don't know</td>\n",
       "      <td>non-neutral</td>\n",
       "    </tr>\n",
       "    <tr>\n",
       "      <th>18</th>\n",
       "      <td>Ok!</td>\n",
       "      <td>neutral</td>\n",
       "    </tr>\n",
       "    <tr>\n",
       "      <th>19</th>\n",
       "      <td>All right, well...</td>\n",
       "      <td>neutral</td>\n",
       "    </tr>\n",
       "    <tr>\n",
       "      <th>20</th>\n",
       "      <td>I'm gonna see if I can get a room for the nigh...</td>\n",
       "      <td>non-neutral</td>\n",
       "    </tr>\n",
       "    <tr>\n",
       "      <th>21</th>\n",
       "      <td>I'll see you later!</td>\n",
       "      <td>non-neutral</td>\n",
       "    </tr>\n",
       "    <tr>\n",
       "      <th>22</th>\n",
       "      <td>Yeah, sure!</td>\n",
       "      <td>neutral</td>\n",
       "    </tr>\n",
       "    <tr>\n",
       "      <th>23</th>\n",
       "      <td>Hey, Mon.</td>\n",
       "      <td>neutral</td>\n",
       "    </tr>\n",
       "    <tr>\n",
       "      <th>24</th>\n",
       "      <td>Hey-hey-hey. You wanna hear something that sucks.</td>\n",
       "      <td>neutral</td>\n",
       "    </tr>\n",
       "    <tr>\n",
       "      <th>25</th>\n",
       "      <td>Do I ever.</td>\n",
       "      <td>joy</td>\n",
       "    </tr>\n",
       "    <tr>\n",
       "      <th>26</th>\n",
       "      <td>Chris says theyre closing down the bar.</td>\n",
       "      <td>sadness</td>\n",
       "    </tr>\n",
       "    <tr>\n",
       "      <th>27</th>\n",
       "      <td>No way!</td>\n",
       "      <td>surprise</td>\n",
       "    </tr>\n",
       "    <tr>\n",
       "      <th>28</th>\n",
       "      <td>Yeah, apparently theyre turning it into some ...</td>\n",
       "      <td>neutral</td>\n",
       "    </tr>\n",
       "    <tr>\n",
       "      <th>29</th>\n",
       "      <td>Just coffee! Where are we gonna hang out now?</td>\n",
       "      <td>non-neutral</td>\n",
       "    </tr>\n",
       "    <tr>\n",
       "      <th>...</th>\n",
       "      <td>...</td>\n",
       "      <td>...</td>\n",
       "    </tr>\n",
       "    <tr>\n",
       "      <th>10531</th>\n",
       "      <td>The money will turn up!</td>\n",
       "      <td>neutral</td>\n",
       "    </tr>\n",
       "    <tr>\n",
       "      <th>10532</th>\n",
       "      <td>People will always wanna invest in movies!</td>\n",
       "      <td>neutral</td>\n",
       "    </tr>\n",
       "    <tr>\n",
       "      <th>10533</th>\n",
       "      <td>Hey, you're not rich are ya?</td>\n",
       "      <td>neutral</td>\n",
       "    </tr>\n",
       "    <tr>\n",
       "      <th>10534</th>\n",
       "      <td>No!</td>\n",
       "      <td>anger</td>\n",
       "    </tr>\n",
       "    <tr>\n",
       "      <th>10535</th>\n",
       "      <td>Eh, worth a shot.  Look Joey, let me know wher...</td>\n",
       "      <td>neutral</td>\n",
       "    </tr>\n",
       "    <tr>\n",
       "      <th>10536</th>\n",
       "      <td>Hey pal, are you Joey Tribbiani?</td>\n",
       "      <td>neutral</td>\n",
       "    </tr>\n",
       "    <tr>\n",
       "      <th>10537</th>\n",
       "      <td>Yeah.</td>\n",
       "      <td>neutral</td>\n",
       "    </tr>\n",
       "    <tr>\n",
       "      <th>10538</th>\n",
       "      <td>These got left for ya.</td>\n",
       "      <td>neutral</td>\n",
       "    </tr>\n",
       "    <tr>\n",
       "      <th>10539</th>\n",
       "      <td>Thanks.   Congratulations on your big break.</td>\n",
       "      <td>non-neutral</td>\n",
       "    </tr>\n",
       "    <tr>\n",
       "      <th>10540</th>\n",
       "      <td>Rachel, do you have any muffins left?</td>\n",
       "      <td>neutral</td>\n",
       "    </tr>\n",
       "    <tr>\n",
       "      <th>10541</th>\n",
       "      <td>Yeah, I forget which ones.</td>\n",
       "      <td>neutral</td>\n",
       "    </tr>\n",
       "    <tr>\n",
       "      <th>10542</th>\n",
       "      <td>Oh, you're busy, that's ok, I'll get it. Anybo...</td>\n",
       "      <td>neutral</td>\n",
       "    </tr>\n",
       "    <tr>\n",
       "      <th>10543</th>\n",
       "      <td>Hey.</td>\n",
       "      <td>neutral</td>\n",
       "    </tr>\n",
       "    <tr>\n",
       "      <th>10544</th>\n",
       "      <td>Hey!</td>\n",
       "      <td>joy</td>\n",
       "    </tr>\n",
       "    <tr>\n",
       "      <th>10545</th>\n",
       "      <td>So how was Joan?</td>\n",
       "      <td>neutral</td>\n",
       "    </tr>\n",
       "    <tr>\n",
       "      <th>10546</th>\n",
       "      <td>I broke up with her.</td>\n",
       "      <td>neutral</td>\n",
       "    </tr>\n",
       "    <tr>\n",
       "      <th>10547</th>\n",
       "      <td>Dont tell me, because of the big nostril thing?</td>\n",
       "      <td>surprise</td>\n",
       "    </tr>\n",
       "    <tr>\n",
       "      <th>10548</th>\n",
       "      <td>They were huge. When she sneezed, bats flew ou...</td>\n",
       "      <td>disgust</td>\n",
       "    </tr>\n",
       "    <tr>\n",
       "      <th>10549</th>\n",
       "      <td>Come on, they were not that huge.</td>\n",
       "      <td>neutral</td>\n",
       "    </tr>\n",
       "    <tr>\n",
       "      <th>10550</th>\n",
       "      <td>I'm tellin' you, she leaned back; I could see ...</td>\n",
       "      <td>disgust</td>\n",
       "    </tr>\n",
       "    <tr>\n",
       "      <th>10551</th>\n",
       "      <td>How many perfectly fine women are you gonna re...</td>\n",
       "      <td>surprise</td>\n",
       "    </tr>\n",
       "    <tr>\n",
       "      <th>10552</th>\n",
       "      <td>Hold it, hold it.</td>\n",
       "      <td>neutral</td>\n",
       "    </tr>\n",
       "    <tr>\n",
       "      <th>10553</th>\n",
       "      <td>I gotta side with Chandler on this one.</td>\n",
       "      <td>neutral</td>\n",
       "    </tr>\n",
       "    <tr>\n",
       "      <th>10554</th>\n",
       "      <td>When I first moved to the city, I went out a c...</td>\n",
       "      <td>disgust</td>\n",
       "    </tr>\n",
       "    <tr>\n",
       "      <th>10555</th>\n",
       "      <td>It made me nuts.</td>\n",
       "      <td>disgust</td>\n",
       "    </tr>\n",
       "    <tr>\n",
       "      <th>10556</th>\n",
       "      <td>You or me?</td>\n",
       "      <td>neutral</td>\n",
       "    </tr>\n",
       "    <tr>\n",
       "      <th>10557</th>\n",
       "      <td>I got it. Uh, Joey, women don't have Adam's ap...</td>\n",
       "      <td>non-neutral</td>\n",
       "    </tr>\n",
       "    <tr>\n",
       "      <th>10558</th>\n",
       "      <td>You guys are messing with me, right?</td>\n",
       "      <td>surprise</td>\n",
       "    </tr>\n",
       "    <tr>\n",
       "      <th>10559</th>\n",
       "      <td>Yeah.</td>\n",
       "      <td>neutral</td>\n",
       "    </tr>\n",
       "    <tr>\n",
       "      <th>10560</th>\n",
       "      <td>That was a good one. For a second there, I was...</td>\n",
       "      <td>non-neutral</td>\n",
       "    </tr>\n",
       "  </tbody>\n",
       "</table>\n",
       "<p>10561 rows × 2 columns</p>\n",
       "</div>"
      ],
      "text/plain": [
       "                                               dialogues      emotion\n",
       "0      also I was the point person on my companys tr...      neutral\n",
       "1                       You mustve had your hands full.      neutral\n",
       "2                                That I did. That I did.      neutral\n",
       "3          So lets talk a little bit about your duties.      neutral\n",
       "4                                 My duties?  All right.     surprise\n",
       "5      Now youll be heading a whole division, so you...      neutral\n",
       "6                                                 I see.      neutral\n",
       "7      But therell be perhaps 30 people under you so...      neutral\n",
       "8                                          Good to know.      neutral\n",
       "9                                  We can go into detail      neutral\n",
       "10                                No dont I beg of you!         fear\n",
       "11     All right then, well have a definite answer f...      neutral\n",
       "12                                              Really?!     surprise\n",
       "13            Absolutely.  You can relax; you did great.      neutral\n",
       "14     But then who? The waitress I went out with las...     surprise\n",
       "15                                  You know? Forget it!  non-neutral\n",
       "16     No-no-no-no, no! Who, who were you talking about?     surprise\n",
       "17              No, I-I-I-I don't, I actually don't know  non-neutral\n",
       "18                                                   Ok!      neutral\n",
       "19                                    All right, well...      neutral\n",
       "20     I'm gonna see if I can get a room for the nigh...  non-neutral\n",
       "21                                   I'll see you later!  non-neutral\n",
       "22                                           Yeah, sure!      neutral\n",
       "23                                             Hey, Mon.      neutral\n",
       "24     Hey-hey-hey. You wanna hear something that sucks.      neutral\n",
       "25                                            Do I ever.          joy\n",
       "26              Chris says theyre closing down the bar.      sadness\n",
       "27                                               No way!     surprise\n",
       "28     Yeah, apparently theyre turning it into some ...      neutral\n",
       "29         Just coffee! Where are we gonna hang out now?  non-neutral\n",
       "...                                                  ...          ...\n",
       "10531                            The money will turn up!      neutral\n",
       "10532         People will always wanna invest in movies!      neutral\n",
       "10533                       Hey, you're not rich are ya?      neutral\n",
       "10534                                                No!        anger\n",
       "10535  Eh, worth a shot.  Look Joey, let me know wher...      neutral\n",
       "10536                   Hey pal, are you Joey Tribbiani?      neutral\n",
       "10537                                              Yeah.      neutral\n",
       "10538                             These got left for ya.      neutral\n",
       "10539       Thanks.   Congratulations on your big break.  non-neutral\n",
       "10540              Rachel, do you have any muffins left?      neutral\n",
       "10541                         Yeah, I forget which ones.      neutral\n",
       "10542  Oh, you're busy, that's ok, I'll get it. Anybo...      neutral\n",
       "10543                                               Hey.      neutral\n",
       "10544                                               Hey!          joy\n",
       "10545                                   So how was Joan?      neutral\n",
       "10546                               I broke up with her.      neutral\n",
       "10547   Dont tell me, because of the big nostril thing?     surprise\n",
       "10548  They were huge. When she sneezed, bats flew ou...      disgust\n",
       "10549                  Come on, they were not that huge.      neutral\n",
       "10550  I'm tellin' you, she leaned back; I could see ...      disgust\n",
       "10551  How many perfectly fine women are you gonna re...     surprise\n",
       "10552                                  Hold it, hold it.      neutral\n",
       "10553            I gotta side with Chandler on this one.      neutral\n",
       "10554  When I first moved to the city, I went out a c...      disgust\n",
       "10555                                   It made me nuts.      disgust\n",
       "10556                                         You or me?      neutral\n",
       "10557  I got it. Uh, Joey, women don't have Adam's ap...  non-neutral\n",
       "10558               You guys are messing with me, right?     surprise\n",
       "10559                                              Yeah.      neutral\n",
       "10560  That was a good one. For a second there, I was...  non-neutral\n",
       "\n",
       "[10561 rows x 2 columns]"
      ]
     },
     "execution_count": 4,
     "metadata": {},
     "output_type": "execute_result"
    }
   ],
   "source": [
    "for dialogue in data:\n",
    "        utter.append(dialogue['utterance'])\n",
    "        emotion.append(dialogue['emotion'])\n",
    "        #print (dialogue['speaker'], dialogue['emotion'], dialogue['utterance'])\n",
    "sms=pd.DataFrame({'dialogues':utter,'emotion':emotion})\n",
    "\n",
    "\n",
    "\n",
    "\n",
    "sms"
   ]
  },
  {
   "cell_type": "code",
   "execution_count": 5,
   "metadata": {},
   "outputs": [
    {
     "data": {
      "text/plain": [
       "neutral        4752\n",
       "non-neutral    2017\n",
       "joy            1283\n",
       "surprise       1220\n",
       "anger           513\n",
       "sadness         351\n",
       "disgust         240\n",
       "fear            185\n",
       "Name: emotion, dtype: int64"
      ]
     },
     "execution_count": 5,
     "metadata": {},
     "output_type": "execute_result"
    }
   ],
   "source": [
    "sms.emotion.value_counts()"
   ]
  },
  {
   "cell_type": "code",
   "execution_count": 6,
   "metadata": {},
   "outputs": [],
   "source": [
    "sms['label']=sms.emotion.map({'neutral':0,'non-neutral':1,'joy':2,'surprise':3,'anger':4,'sadness':5,'disgust':6,'fear':7})"
   ]
  },
  {
   "cell_type": "code",
   "execution_count": 7,
   "metadata": {},
   "outputs": [
    {
     "data": {
      "text/html": [
       "<div>\n",
       "<style scoped>\n",
       "    .dataframe tbody tr th:only-of-type {\n",
       "        vertical-align: middle;\n",
       "    }\n",
       "\n",
       "    .dataframe tbody tr th {\n",
       "        vertical-align: top;\n",
       "    }\n",
       "\n",
       "    .dataframe thead th {\n",
       "        text-align: right;\n",
       "    }\n",
       "</style>\n",
       "<table border=\"1\" class=\"dataframe\">\n",
       "  <thead>\n",
       "    <tr style=\"text-align: right;\">\n",
       "      <th></th>\n",
       "      <th>dialogues</th>\n",
       "      <th>emotion</th>\n",
       "      <th>label</th>\n",
       "    </tr>\n",
       "  </thead>\n",
       "  <tbody>\n",
       "    <tr>\n",
       "      <th>0</th>\n",
       "      <td>also I was the point person on my companys tr...</td>\n",
       "      <td>neutral</td>\n",
       "      <td>0</td>\n",
       "    </tr>\n",
       "    <tr>\n",
       "      <th>1</th>\n",
       "      <td>You mustve had your hands full.</td>\n",
       "      <td>neutral</td>\n",
       "      <td>0</td>\n",
       "    </tr>\n",
       "    <tr>\n",
       "      <th>2</th>\n",
       "      <td>That I did. That I did.</td>\n",
       "      <td>neutral</td>\n",
       "      <td>0</td>\n",
       "    </tr>\n",
       "    <tr>\n",
       "      <th>3</th>\n",
       "      <td>So lets talk a little bit about your duties.</td>\n",
       "      <td>neutral</td>\n",
       "      <td>0</td>\n",
       "    </tr>\n",
       "    <tr>\n",
       "      <th>4</th>\n",
       "      <td>My duties?  All right.</td>\n",
       "      <td>surprise</td>\n",
       "      <td>3</td>\n",
       "    </tr>\n",
       "    <tr>\n",
       "      <th>5</th>\n",
       "      <td>Now youll be heading a whole division, so you...</td>\n",
       "      <td>neutral</td>\n",
       "      <td>0</td>\n",
       "    </tr>\n",
       "    <tr>\n",
       "      <th>6</th>\n",
       "      <td>I see.</td>\n",
       "      <td>neutral</td>\n",
       "      <td>0</td>\n",
       "    </tr>\n",
       "    <tr>\n",
       "      <th>7</th>\n",
       "      <td>But therell be perhaps 30 people under you so...</td>\n",
       "      <td>neutral</td>\n",
       "      <td>0</td>\n",
       "    </tr>\n",
       "    <tr>\n",
       "      <th>8</th>\n",
       "      <td>Good to know.</td>\n",
       "      <td>neutral</td>\n",
       "      <td>0</td>\n",
       "    </tr>\n",
       "    <tr>\n",
       "      <th>9</th>\n",
       "      <td>We can go into detail</td>\n",
       "      <td>neutral</td>\n",
       "      <td>0</td>\n",
       "    </tr>\n",
       "  </tbody>\n",
       "</table>\n",
       "</div>"
      ],
      "text/plain": [
       "                                           dialogues   emotion  label\n",
       "0  also I was the point person on my companys tr...   neutral      0\n",
       "1                   You mustve had your hands full.   neutral      0\n",
       "2                            That I did. That I did.   neutral      0\n",
       "3      So lets talk a little bit about your duties.   neutral      0\n",
       "4                             My duties?  All right.  surprise      3\n",
       "5  Now youll be heading a whole division, so you...   neutral      0\n",
       "6                                             I see.   neutral      0\n",
       "7  But therell be perhaps 30 people under you so...   neutral      0\n",
       "8                                      Good to know.   neutral      0\n",
       "9                              We can go into detail   neutral      0"
      ]
     },
     "execution_count": 7,
     "metadata": {},
     "output_type": "execute_result"
    }
   ],
   "source": [
    "sms.head(10)"
   ]
  },
  {
   "cell_type": "code",
   "execution_count": 8,
   "metadata": {},
   "outputs": [],
   "source": [
    "X=sms.dialogues\n",
    "y=sms.label"
   ]
  },
  {
   "cell_type": "code",
   "execution_count": 9,
   "metadata": {},
   "outputs": [
    {
     "name": "stdout",
     "output_type": "stream",
     "text": [
      "(7920,)\n",
      "(2641,)\n",
      "(7920,)\n",
      "(2641,)\n"
     ]
    },
    {
     "name": "stderr",
     "output_type": "stream",
     "text": [
      "D:\\anaconda\\lib\\site-packages\\sklearn\\cross_validation.py:41: DeprecationWarning: This module was deprecated in version 0.18 in favor of the model_selection module into which all the refactored classes and functions are moved. Also note that the interface of the new CV iterators are different from that of this module. This module will be removed in 0.20.\n",
      "  \"This module will be removed in 0.20.\", DeprecationWarning)\n"
     ]
    }
   ],
   "source": [
    "from sklearn.cross_validation import train_test_split\n",
    "X_train, X_test, y_train, y_test = train_test_split(X, y, random_state=1)\n",
    "print(X_train.shape)\n",
    "print(X_test.shape)\n",
    "print(y_train.shape)\n",
    "print(y_test.shape)"
   ]
  },
  {
   "cell_type": "code",
   "execution_count": 10,
   "metadata": {},
   "outputs": [
    {
     "data": {
      "text/plain": [
       "8219                                     Ahhh!  Ooh, nice!\n",
       "10336    But not that sorry, 'cause you don't have to l...\n",
       "1793                           I knew it! I knew it, ahh\n",
       ".\n",
       "5231                 Arent you with that girl over there?\n",
       "3851                                             Oh hello.\n",
       "8411                                                  Hey!\n",
       "90       See, if Im not buried with that ring then my ...\n",
       "2015         Yknow, I ended up having a really good time.\n",
       "6485                             Oh Mon, I laughed so hard\n",
       "4399                   And youre our age. Youre our age.\n",
       "3625                             What? Mine arent tinted.\n",
       "5082                 Wow, uh, anything else I should know?\n",
       "5312     All right, look I was just trying to make a go...\n",
       "4327           Yeah! Hey, do Monica and Rachel work there?\n",
       "1395                                            Hi, Julie!\n",
       "3092     Relax. Its just Issacs D.J.-ing at the Phill...\n",
       "9438                                                  Hmm.\n",
       "8627     Because! Because, it-it-its\n",
       " Itd be like you...\n",
       "4694                                               And...?\n",
       "9402     Hey Ross, listen, you want anything to drink, ...\n",
       "6233     This is completely normal, around the fourth m...\n",
       "3648                Emily, hi! Uh, how-how was you flight?\n",
       "2702                                          Yknow what?\n",
       "5300                                                  Heh?\n",
       "2675                            I know. Im mad at me too.\n",
       "10431                Ross! Can I talk to you for a second?\n",
       "6617                       It actually is in the handbook.\n",
       "7317       Uh-huh. Yeah, I-I have a knack for impressions.\n",
       "5129     Don't get your hopes up guys, we only get to s...\n",
       "3370     Uhh, do you mind sitting there. Im-Im saving...\n",
       "                               ...                        \n",
       "1031                                               Really?\n",
       "6121                                         What message?\n",
       "6285                 Oh, no thanks, I got it.  No I dont!\n",
       "1110                                      I did it anyway.\n",
       "1888                                      Remembered what?\n",
       "9719     You should serve it with vodka and a piece of ...\n",
       "753                                    Okay, thats a lie.\n",
       "3049     Did you see how he was sweating when he walked...\n",
       "8151     I know that theres no hole there, I just real...\n",
       "562                                           Here you go!\n",
       "6542                              Actually, its just bag.\n",
       "8093                 $500 that is a loooot of electricity!\n",
       "4764                      Oh, its crazy about Rachel huh?\n",
       "3562                                                    Wh\n",
       "8444                              Paolo made a pass at me.\n",
       "2516     Oh good, youre here. Yeah, and I was worried ...\n",
       "2962     Come on Joey, dont make me feel badly about t...\n",
       "5374                                              Yeah but\n",
       "5396     Eww! Look, I'm asking a favor here. If I do th...\n",
       "9394     Alright . I think it's a big mistake but it's ...\n",
       "3462                                  This one right here.\n",
       "7751     OK, I'll go. OK, senior year of college... on ...\n",
       "4225                           Oh, uh, I... don't... care.\n",
       "144      But thats not enough. So\n",
       " So\n",
       "heres a key to ...\n",
       "5056                      Y'know what? We need to move on.\n",
       "2895                              I'm thinkin', cha-ching!\n",
       "7813                                            Thank you.\n",
       "905                            Oh, are you sure you're ok?\n",
       "5192                                                 Fine!\n",
       "235      Water breaking, what do you mean? What's that,...\n",
       "Name: dialogues, Length: 7920, dtype: object"
      ]
     },
     "execution_count": 10,
     "metadata": {},
     "output_type": "execute_result"
    }
   ],
   "source": [
    "X_train"
   ]
  },
  {
   "cell_type": "code",
   "execution_count": 11,
   "metadata": {},
   "outputs": [],
   "source": [
    "from sklearn.feature_extraction.text import CountVectorizer\n",
    "vect = CountVectorizer()\n",
    "vect.fit(X_train)\n",
    "X_train_dtm = vect.transform(X_train)"
   ]
  },
  {
   "cell_type": "code",
   "execution_count": 12,
   "metadata": {},
   "outputs": [],
   "source": [
    "X_train_dtm = vect.fit_transform(X_train)"
   ]
  },
  {
   "cell_type": "code",
   "execution_count": 13,
   "metadata": {},
   "outputs": [
    {
     "data": {
      "text/plain": [
       "<7920x4759 sparse matrix of type '<class 'numpy.int64'>'\n",
       "\twith 55025 stored elements in Compressed Sparse Row format>"
      ]
     },
     "execution_count": 13,
     "metadata": {},
     "output_type": "execute_result"
    }
   ],
   "source": [
    "X_train_dtm"
   ]
  },
  {
   "cell_type": "code",
   "execution_count": 14,
   "metadata": {},
   "outputs": [
    {
     "data": {
      "text/plain": [
       "<2641x4759 sparse matrix of type '<class 'numpy.int64'>'\n",
       "\twith 16910 stored elements in Compressed Sparse Row format>"
      ]
     },
     "execution_count": 14,
     "metadata": {},
     "output_type": "execute_result"
    }
   ],
   "source": [
    "X_test_dtm = vect.transform(X_test)\n",
    "X_test_dtm"
   ]
  },
  {
   "cell_type": "code",
   "execution_count": 15,
   "metadata": {},
   "outputs": [],
   "source": [
    "from sklearn.naive_bayes import MultinomialNB\n",
    "nb = MultinomialNB()"
   ]
  },
  {
   "cell_type": "code",
   "execution_count": 16,
   "metadata": {},
   "outputs": [
    {
     "data": {
      "text/plain": [
       "MultinomialNB(alpha=1.0, class_prior=None, fit_prior=True)"
      ]
     },
     "execution_count": 16,
     "metadata": {},
     "output_type": "execute_result"
    }
   ],
   "source": [
    "nb.fit(X_train_dtm, y_train)"
   ]
  },
  {
   "cell_type": "code",
   "execution_count": 17,
   "metadata": {},
   "outputs": [],
   "source": [
    "y_pred_class = nb.predict(X_test_dtm)"
   ]
  },
  {
   "cell_type": "code",
   "execution_count": 18,
   "metadata": {},
   "outputs": [
    {
     "data": {
      "text/plain": [
       "0.4892086330935252"
      ]
     },
     "execution_count": 18,
     "metadata": {},
     "output_type": "execute_result"
    }
   ],
   "source": [
    "\n",
    "\n",
    "\n",
    "\n",
    "\n",
    "\n",
    "\n",
    "\n",
    "from sklearn import metrics\n",
    "metrics.accuracy_score(y_test, y_pred_class)"
   ]
  },
  {
   "cell_type": "code",
   "execution_count": 19,
   "metadata": {},
   "outputs": [
    {
     "data": {
      "text/plain": [
       "array([[1086,   68,   20,   13,    1,    0,    0,    0],\n",
       "       [ 391,   79,    8,   20,    2,    0,    0,    0],\n",
       "       [ 243,   20,   53,    5,    1,    0,    0,    0],\n",
       "       [ 202,   32,    7,   71,    0,    0,    0,    0],\n",
       "       [  92,   19,    4,    3,    1,    0,    0,    0],\n",
       "       [  67,   10,    0,    1,    0,    1,    0,    0],\n",
       "       [  41,   24,    0,    6,    0,    0,    1,    0],\n",
       "       [  38,    9,    0,    2,    0,    0,    0,    0]], dtype=int64)"
      ]
     },
     "execution_count": 19,
     "metadata": {},
     "output_type": "execute_result"
    }
   ],
   "source": [
    "metrics.confusion_matrix(y_test, y_pred_class)"
   ]
  },
  {
   "cell_type": "code",
   "execution_count": 20,
   "metadata": {},
   "outputs": [
    {
     "name": "stdout",
     "output_type": "stream",
     "text": [
      "You mustve had your hands full.\n",
      "6\n"
     ]
    }
   ],
   "source": [
    "print(utter[1])\n",
    "print(len(utter[1].split()))"
   ]
  },
  {
   "cell_type": "code",
   "execution_count": 21,
   "metadata": {},
   "outputs": [
    {
     "data": {
      "text/plain": [
       "0.49640287769784175"
      ]
     },
     "execution_count": 21,
     "metadata": {},
     "output_type": "execute_result"
    }
   ],
   "source": [
    "\n",
    "\n",
    "\n",
    "\n",
    "\n",
    "\n",
    "\n",
    "\n",
    "from sklearn.linear_model import LogisticRegression\n",
    "logreg = LogisticRegression()\n",
    "logreg.fit(X_train_dtm, y_train)\n",
    "y_pred_class = logreg.predict(X_test_dtm)\n",
    "metrics.accuracy_score(y_test, y_pred_class)"
   ]
  },
  {
   "cell_type": "code",
   "execution_count": 22,
   "metadata": {},
   "outputs": [
    {
     "name": "stderr",
     "output_type": "stream",
     "text": [
      "D:\\anaconda\\lib\\site-packages\\sklearn\\linear_model\\stochastic_gradient.py:117: DeprecationWarning: n_iter parameter is deprecated in 0.19 and will be removed in 0.21. Use max_iter and tol instead.\n",
      "  DeprecationWarning)\n"
     ]
    },
    {
     "data": {
      "text/plain": [
       "0.4971601666035593"
      ]
     },
     "execution_count": 22,
     "metadata": {},
     "output_type": "execute_result"
    }
   ],
   "source": [
    "\n",
    "\n",
    "\n",
    "\n",
    "\n",
    "\n",
    "\n",
    "\n",
    "\n",
    "\n",
    "\n",
    "\n",
    "\n",
    "\n",
    "from sklearn.linear_model import SGDClassifier\n",
    "X_train_counts = vect.fit_transform(X_train)\n",
    "from sklearn.pipeline import Pipeline\n",
    "from sklearn.feature_extraction.text import TfidfTransformer\n",
    "text_clf_svm = Pipeline([('vect', CountVectorizer()), ('tfidf', TfidfTransformer()),\n",
    "                         ('clf-svm', SGDClassifier(loss='hinge', penalty='l2',alpha=1e-3, n_iter=5, random_state=42))])\n",
    "\n",
    "text_clf_svm = text_clf_svm.fit(X_train, y_train)\n",
    "predicted_svm = text_clf_svm.predict(X_test)\n",
    "import numpy as np\n",
    "np.mean(predicted_svm == y_test)"
   ]
  },
  {
   "cell_type": "code",
   "execution_count": 23,
   "metadata": {},
   "outputs": [],
   "source": []
  },
  {
   "cell_type": "code",
   "execution_count": 24,
   "metadata": {},
   "outputs": [
    {
     "data": {
      "text/plain": [
       "8219                                     Ahhh!  Ooh, nice!\n",
       "10336    But not that sorry, 'cause you don't have to l...\n",
       "1793                           I knew it! I knew it, ahh\n",
       ".\n",
       "5231                 Arent you with that girl over there?\n",
       "3851                                             Oh hello.\n",
       "8411                                                  Hey!\n",
       "90       See, if Im not buried with that ring then my ...\n",
       "2015         Yknow, I ended up having a really good time.\n",
       "6485                             Oh Mon, I laughed so hard\n",
       "4399                   And youre our age. Youre our age.\n",
       "3625                             What? Mine arent tinted.\n",
       "5082                 Wow, uh, anything else I should know?\n",
       "5312     All right, look I was just trying to make a go...\n",
       "4327           Yeah! Hey, do Monica and Rachel work there?\n",
       "1395                                            Hi, Julie!\n",
       "3092     Relax. Its just Issacs D.J.-ing at the Phill...\n",
       "9438                                                  Hmm.\n",
       "8627     Because! Because, it-it-its\n",
       " Itd be like you...\n",
       "4694                                               And...?\n",
       "9402     Hey Ross, listen, you want anything to drink, ...\n",
       "6233     This is completely normal, around the fourth m...\n",
       "3648                Emily, hi! Uh, how-how was you flight?\n",
       "2702                                          Yknow what?\n",
       "5300                                                  Heh?\n",
       "2675                            I know. Im mad at me too.\n",
       "10431                Ross! Can I talk to you for a second?\n",
       "6617                       It actually is in the handbook.\n",
       "7317       Uh-huh. Yeah, I-I have a knack for impressions.\n",
       "5129     Don't get your hopes up guys, we only get to s...\n",
       "3370     Uhh, do you mind sitting there. Im-Im saving...\n",
       "                               ...                        \n",
       "1031                                               Really?\n",
       "6121                                         What message?\n",
       "6285                 Oh, no thanks, I got it.  No I dont!\n",
       "1110                                      I did it anyway.\n",
       "1888                                      Remembered what?\n",
       "9719     You should serve it with vodka and a piece of ...\n",
       "753                                    Okay, thats a lie.\n",
       "3049     Did you see how he was sweating when he walked...\n",
       "8151     I know that theres no hole there, I just real...\n",
       "562                                           Here you go!\n",
       "6542                              Actually, its just bag.\n",
       "8093                 $500 that is a loooot of electricity!\n",
       "4764                      Oh, its crazy about Rachel huh?\n",
       "3562                                                    Wh\n",
       "8444                              Paolo made a pass at me.\n",
       "2516     Oh good, youre here. Yeah, and I was worried ...\n",
       "2962     Come on Joey, dont make me feel badly about t...\n",
       "5374                                              Yeah but\n",
       "5396     Eww! Look, I'm asking a favor here. If I do th...\n",
       "9394     Alright . I think it's a big mistake but it's ...\n",
       "3462                                  This one right here.\n",
       "7751     OK, I'll go. OK, senior year of college... on ...\n",
       "4225                           Oh, uh, I... don't... care.\n",
       "144      But thats not enough. So\n",
       " So\n",
       "heres a key to ...\n",
       "5056                      Y'know what? We need to move on.\n",
       "2895                              I'm thinkin', cha-ching!\n",
       "7813                                            Thank you.\n",
       "905                            Oh, are you sure you're ok?\n",
       "5192                                                 Fine!\n",
       "235      Water breaking, what do you mean? What's that,...\n",
       "Name: dialogues, Length: 7920, dtype: object"
      ]
     },
     "execution_count": 24,
     "metadata": {},
     "output_type": "execute_result"
    }
   ],
   "source": [
    "X_train"
   ]
  },
  {
   "cell_type": "code",
   "execution_count": null,
   "metadata": {},
   "outputs": [],
   "source": []
  }
 ],
 "metadata": {
  "kernelspec": {
   "display_name": "Python 3",
   "language": "python",
   "name": "python3"
  },
  "language_info": {
   "codemirror_mode": {
    "name": "ipython",
    "version": 3
   },
   "file_extension": ".py",
   "mimetype": "text/x-python",
   "name": "python",
   "nbconvert_exporter": "python",
   "pygments_lexer": "ipython3",
   "version": "3.6.5"
  }
 },
 "nbformat": 4,
 "nbformat_minor": 2
}
